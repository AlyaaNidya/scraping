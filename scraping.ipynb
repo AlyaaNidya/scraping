{
 "cells": [
  {
   "cell_type": "code",
   "execution_count": 1,
   "metadata": {},
   "outputs": [],
   "source": [
    "import time\n",
    "from selenium import webdriver\n",
    "from bs4 import BeautifulSoup\n",
    "import pandas as pd\n",
    "import chromedriver_autoinstaller\n",
    "from selenium.webdriver.support.ui import WebDriverWait\n",
    "from selenium.webdriver.common.by import By\n",
    "from selenium.webdriver.support import expected_conditions as EC\n"
   ]
  },
  {
   "cell_type": "code",
   "execution_count": 2,
   "metadata": {},
   "outputs": [],
   "source": [
    "chromedriver_autoinstaller.install()\n",
    "driver = webdriver.Chrome()"
   ]
  },
  {
   "cell_type": "code",
   "execution_count": 3,
   "metadata": {},
   "outputs": [],
   "source": [
    "driver.get('https://www.tokopedia.com/search?st=product&q=keyboard%20mechanical&srp_component_id=02.01.00.00&srp_page_id=&srp_page_title=&navsource=')"
   ]
  },
  {
   "cell_type": "code",
   "execution_count": 4,
   "metadata": {},
   "outputs": [],
   "source": [
    "for i in range(25):\n",
    "    driver.execute_script('window.scrollBy(0, 250)')"
   ]
  },
  {
   "cell_type": "code",
   "execution_count": 5,
   "metadata": {},
   "outputs": [],
   "source": [
    "soup = BeautifulSoup(driver.page_source, 'lxml')"
   ]
  },
  {
   "cell_type": "code",
   "execution_count": 6,
   "metadata": {},
   "outputs": [],
   "source": [
    "items = soup.find_all('div', class_='css-974ipl')"
   ]
  },
  {
   "cell_type": "code",
   "execution_count": 7,
   "metadata": {},
   "outputs": [],
   "source": [
    "data = []\n",
    "for i in range(100):\n",
    "    WebDriverWait(driver, 5).until(EC.presence_of_element_located((By.CSS_SELECTOR, \"#zeus-root\")))\n",
    "    for j in range(25):\n",
    "        driver.execute_script('window.scrollBy(0, 250)')\n",
    "\n",
    "    for item in items:\n",
    "        name = item.find(class_='css-3um8ox').text.strip()\n",
    "        price = item.find(class_='css-1ksb19c').text.strip()\n",
    "        discount = item.find('div', class_='css-1qtulwh').text.replace(' ','') if item.find('div', class_='css-1qtulwh') else None\n",
    "        price_2 = item.find('div', class_='css-1u1z2kp').text.replace(' ','') if item.find('div', class_='css-1u1z2kp') else None\n",
    "        city = item.find(class_='prd_link-shop-loc').text.replace(' ','') if item.find(class_='prd_link-shop-loc') else None\n",
    "        store = item.find('span', class_='prd_link-shop-name').text.replace(' ','') if item.find('span', class_='prd_link-shop-name') else None\n",
    "        rating = item.find('span', class_='css-t70v7i').text.replace(' ','') if item.find('span', class_='css-t70v7i') else None\n",
    "\n",
    "        keyboards={\n",
    "            'name': name,\n",
    "            'price': price,\n",
    "            'discount': discount,\n",
    "            'before discount': price_2,\n",
    "            'city': city,\n",
    "            'store name': store,\n",
    "            'rating': rating\n",
    "        }\n",
    "\n",
    "        data.append(keyboards)\n",
    "    time.sleep(2)\n",
    "    driver.find_element(By.CSS_SELECTOR, 'button[aria-label^=\"Laman berikutnya\"]').click()\n",
    "    time.sleep(3)        "
   ]
  },
  {
   "cell_type": "code",
   "execution_count": 8,
   "metadata": {},
   "outputs": [],
   "source": [
    "pd.DataFrame(data).to_excel('Web Scraping_Alyaa Nidya Shadrina Anwar.xlsx')"
   ]
  }
 ],
 "metadata": {
  "kernelspec": {
   "display_name": "base",
   "language": "python",
   "name": "python3"
  },
  "language_info": {
   "codemirror_mode": {
    "name": "ipython",
    "version": 3
   },
   "file_extension": ".py",
   "mimetype": "text/x-python",
   "name": "python",
   "nbconvert_exporter": "python",
   "pygments_lexer": "ipython3",
   "version": "3.10.9"
  },
  "orig_nbformat": 4
 },
 "nbformat": 4,
 "nbformat_minor": 2
}
